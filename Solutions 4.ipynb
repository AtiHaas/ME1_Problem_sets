{
 "cells": [
  {
   "cell_type": "code",
   "execution_count": 11,
   "metadata": {},
   "outputs": [
    {
     "name": "stdout",
     "output_type": "stream",
     "text": [
      "The avrage of the marks is: 50.57788944723618\n",
      "The maximum of the marks is: 98\n",
      "The avrage of the marks (first 60 students) is: 46.78333333333333\n"
     ]
    }
   ],
   "source": [
    "# TASK 1\n",
    "\n",
    "\n",
    "#Reading in the marks into a list\n",
    "marks = []\n",
    "f = open('Marks(1).txt', 'r')\n",
    "for mark in f:\n",
    "    marks.append(int(mark))\n",
    "#Calculating the avrage mark\n",
    "sum_marks = 0\n",
    "for mark in marks:\n",
    "    sum_marks += mark\n",
    "avg_marks = sum_marks / len(marks)\n",
    "print(f\"The avrage of the marks is: {avg_marks}\")\n",
    "#Finding the maximum value \n",
    "max_mark = 0\n",
    "for mark in marks:\n",
    "    if (mark >= max_mark):\n",
    "        max_mark = mark\n",
    "print(f\"The maximum of the marks is: {max_mark}\")\n",
    "\n",
    "\n",
    "#Calculating the avrage of the first 60:\n",
    "sum_marks_60 = 0\n",
    "for i in range(0, 60):\n",
    "    sum_marks_60 += marks[i]\n",
    "avg_marks_60 = sum_marks_60/60\n",
    "\n",
    "print(f\"The avrage of the marks (first 60 students) is: {avg_marks_60}\")\n"
   ]
  },
  {
   "cell_type": "code",
   "execution_count": 12,
   "metadata": {},
   "outputs": [
    {
     "name": "stdout",
     "output_type": "stream",
     "text": [
      "Whos score would you like to see? (CID please)5194\n",
      "The score achiveed by 5194 is 32\n"
     ]
    }
   ],
   "source": [
    "#TASK 2\n",
    "\n",
    "#A\n",
    "\n",
    "#Reading the CIDs into a list\n",
    "cids =[]\n",
    "f2 = open('CIDs(1).txt', 'r')\n",
    "for cid in f2:\n",
    "    cids.append(int(cid))\n",
    "#Asking the user for the CID\n",
    "CID = int(input(\"Whos score would you like to see? (CID please)\"))\n",
    "#Finding if the CID even is in there, its position\n",
    "found = False\n",
    "not_in = False\n",
    "i = 0\n",
    "while(not found ):\n",
    "    if(i < len(cids)):\n",
    "        if (cids[i] == CID):\n",
    "            found = True\n",
    "        else:\n",
    "            i += 1\n",
    "    else:\n",
    "        print(\"That kid did not write the test\")\n",
    "        break \n",
    "#Finding the corresponding score\n",
    "if (found ==True):\n",
    "    print(f\"The score achiveed by {CID} is {marks[i]}\")\n",
    "\n",
    "#B\n",
    "\n",
    "best_students_i = []\n",
    "best_students = []\n",
    "for i in range(0, len(marks)-1):\n",
    "    if marks[i] == max_mark:\n",
    "        best_students_i.append(i)\n",
    "for i in best_students_i:\n",
    "    best_students.append(cids[i])\n",
    "f3 = open('Best.txt' , 'w')\n",
    "f3.write(\"The Students with the top scores are: \" + '\\n')\n",
    "for student in best_students:\n",
    "    f3.write(str(student)+ '\\n')\n",
    "\n",
    "\n",
    "f3.close()\n",
    "f2.close()\n",
    "f.close()"
   ]
  },
  {
   "cell_type": "code",
   "execution_count": 1,
   "metadata": {},
   "outputs": [
    {
     "data": {
      "image/png": "[encoded data removed]",
      "text/plain": [
       "<Figure size 432x288 with 1 Axes>"
      ]
     },
     "metadata": {
      "needs_background": "light"
     },
     "output_type": "display_data"
    }
   ],
   "source": [
    "#TASK 3\n",
    "\n",
    "# import modules\n",
    "import matplotlib.pyplot as pl\n",
    "import numpy as np\n",
    "\n",
    "#A\n",
    "N = [2,6,10,14]\n",
    "x = []\n",
    "#The original function was:\n",
    "for i in np.arange(-0.8, 0.8, 0.01):\n",
    "    x.append(i)\n",
    "def originalfunction(x): \n",
    "    return (1/(1-x))\n",
    "truey =[]\n",
    "for i in x:\n",
    "    truey.append(originalfunction(i))\n",
    "pl.plot(x, truey, color = 'Black')\n",
    "#Approximations to the function:\n",
    "for n in N:\n",
    "    y = []\n",
    "    for j in x:\n",
    "        Sum = 0\n",
    "        for i in range(0,n):\n",
    "            Sum += j**i\n",
    "        y.append(Sum)\n",
    "    pl.plot(x,y)\n",
    "\n",
    "\n"
   ]
  },
  {
   "cell_type": "code",
   "execution_count": 1,
   "metadata": {},
   "outputs": [
    {
     "name": "stdout",
     "output_type": "stream",
     "text": [
      "Please input x_p!1\n",
      "Please input the accuracy!1\n"
     ]
    },
    {
     "ename": "NameError",
     "evalue": "name 'x' is not defined",
     "output_type": "error",
     "traceback": [
      "\u001b[0;31m---------------------------------------------------------------------------\u001b[0m",
      "\u001b[0;31mNameError\u001b[0m                                 Traceback (most recent call last)",
      "\u001b[0;32m<ipython-input-1-fb21225da06b>\u001b[0m in \u001b[0;36m<module>\u001b[0;34m\u001b[0m\n\u001b[1;32m      8\u001b[0m \u001b[0;32mwhile\u001b[0m \u001b[0;32mnot\u001b[0m \u001b[0maccurate\u001b[0m\u001b[0;34m:\u001b[0m\u001b[0;34m\u001b[0m\u001b[0;34m\u001b[0m\u001b[0m\n\u001b[1;32m      9\u001b[0m     \u001b[0my\u001b[0m \u001b[0;34m=\u001b[0m\u001b[0;34m[\u001b[0m\u001b[0;34m]\u001b[0m\u001b[0;34m\u001b[0m\u001b[0;34m\u001b[0m\u001b[0m\n\u001b[0;32m---> 10\u001b[0;31m     \u001b[0;32mfor\u001b[0m \u001b[0mj\u001b[0m \u001b[0;32min\u001b[0m \u001b[0mx\u001b[0m\u001b[0;34m:\u001b[0m\u001b[0;34m\u001b[0m\u001b[0;34m\u001b[0m\u001b[0m\n\u001b[0m\u001b[1;32m     11\u001b[0m         \u001b[0mSum\u001b[0m \u001b[0;34m=\u001b[0m\u001b[0;36m0\u001b[0m\u001b[0;34m\u001b[0m\u001b[0;34m\u001b[0m\u001b[0m\n\u001b[1;32m     12\u001b[0m         \u001b[0;32mfor\u001b[0m \u001b[0mi\u001b[0m \u001b[0;32min\u001b[0m \u001b[0mrange\u001b[0m\u001b[0;34m(\u001b[0m\u001b[0;36m0\u001b[0m\u001b[0;34m,\u001b[0m \u001b[0mN2\u001b[0m\u001b[0;34m+\u001b[0m\u001b[0;36m1\u001b[0m\u001b[0;34m)\u001b[0m\u001b[0;34m:\u001b[0m\u001b[0;34m\u001b[0m\u001b[0;34m\u001b[0m\u001b[0m\n",
      "\u001b[0;31mNameError\u001b[0m: name 'x' is not defined"
     ]
    }
   ],
   "source": [
    "#TASK D\n",
    "\n",
    "N2 = 2\n",
    "\n",
    "xp=float(input('Please input x_p!'))\n",
    "Q = int(input('Please input the accuracy!'))\n",
    "accurate = False\n",
    "while not accurate:\n",
    "    y =[]\n",
    "    for j in x:\n",
    "        Sum =0\n",
    "        for i in range(0, N2+1):\n",
    "            Sum += j**i\n",
    "        y.append(Sum)\n",
    "    for i in range(0, len(x)):\n",
    "        if (x[i] == xp):\n",
    "            if (abs(y[i]-truey[i]< 10**(-Q))):\n",
    "                accurate = True\n",
    "            else:\n",
    "                N2 += 1\n",
    "print(f'The number of terms needed is {N2}')\n",
    "pl.plot(x,y)"
   ]
  },
  {
   "cell_type": "code",
   "execution_count": 3,
   "metadata": {},
   "outputs": [
    {
     "name": "stdout",
     "output_type": "stream",
     "text": [
      "[0.0, 0.01, 0.02, 0.03, 0.04, 0.05, 0.06, 0.07, 0.08, 0.09, 0.1, 0.11, 0.12, 0.13, 0.14, 0.15, 0.16, 0.17, 0.18, 0.19, 0.2, 0.21, 0.22, 0.23, 0.24, 0.25, 0.26, 0.27, 0.28, 0.29, 0.3, 0.31, 0.32, 0.33, 0.34, 0.35000000000000003, 0.36, 0.37, 0.38, 0.39, 0.4, 0.41000000000000003, 0.42, 0.43, 0.44, 0.45, 0.46, 0.47000000000000003, 0.48, 0.49, 0.5, 0.51, 0.52, 0.53, 0.54, 0.55, 0.56, 0.5700000000000001, 0.58, 0.59, 0.6, 0.61, 0.62, 0.63, 0.64, 0.65, 0.66, 0.67, 0.68, 0.6900000000000001]\n"
     ]
    }
   ],
   "source": [
    "import numpy as np\n",
    "TEST = []\n",
    "for i in np.arange(0, 0.7, 0.01):\n",
    "    TEST.append(i)\n",
    "\n",
    "print(TEST)\n",
    "\n"
   ]
  },
  {
   "cell_type": "code",
   "execution_count": null,
   "metadata": {},
   "outputs": [],
   "source": []
  }
 ],
 "metadata": {
  "kernelspec": {
   "display_name": "Python 3",
   "language": "python",
   "name": "python3"
  },
  "language_info": {
   "codemirror_mode": {
    "name": "ipython",
    "version": 3
   },
   "file_extension": ".py",
   "mimetype": "text/x-python",
   "name": "python",
   "nbconvert_exporter": "python",
   "pygments_lexer": "ipython3",
   "version": "3.7.6"
  }
 },
 "nbformat": 4,
 "nbformat_minor": 4
}
