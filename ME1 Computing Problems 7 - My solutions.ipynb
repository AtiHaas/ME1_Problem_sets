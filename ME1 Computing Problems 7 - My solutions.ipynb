{
 "cells": [
  {
   "cell_type": "code",
   "execution_count": 71,
   "metadata": {},
   "outputs": [
    {
     "name": "stdout",
     "output_type": "stream",
     "text": [
      "The 16th number in the Fibonacci series is 987\n"
     ]
    }
   ],
   "source": [
    "# TASK A \n",
    "\n",
    "def Fibonacci (n):\n",
    "    if (n == 1):\n",
    "        return 1\n",
    "    elif (n ==2):\n",
    "        return 1\n",
    "    else:\n",
    "        return Fibonacci(n-1) + Fibonacci(n-2)\n",
    "        \n",
    "# The Solution to the BB question:\n",
    "\n",
    "    \n",
    "print(f\"The 16th number in the Fibonacci series is {Fibonacci(16)}\")\n",
    "        "
   ]
  },
  {
   "cell_type": "code",
   "execution_count": 72,
   "metadata": {},
   "outputs": [
    {
     "name": "stdout",
     "output_type": "stream",
     "text": [
      "[24, 67, 81]\n",
      "[10, 3, 28]\n",
      "[63, 55, 17]\n",
      "________________________________________\n",
      "67 swapped with 17:\n",
      "[24, 17, 81]\n",
      "[10, 3, 28]\n",
      "[63, 55, 67]\n",
      "________________________________________\n",
      "81 swapped with 63:\n",
      "[24, 17, 63]\n",
      "[10, 3, 28]\n",
      "[81, 55, 67]\n",
      "________________________________________\n",
      "3 replaced with (24+28)\n",
      "[24, 17, 63]\n",
      "[10, 52, 28]\n",
      "[81, 55, 67]\n",
      "________________________________________\n",
      "[3, 5, 7]\n",
      "[2, 4, 6]\n",
      "________________________________________\n",
      "A[2][2] is = 67\n"
     ]
    }
   ],
   "source": [
    "#TASK B\n",
    "\n",
    "def Print_matrix_elementwise (M):\n",
    "    NR = len(M) #Number of rows\n",
    "    NC = len(M[0]) #Number of collums\n",
    "    for i in range(0, NR):\n",
    "        for j in range(0, NC):\n",
    "            print(M[i][j])\n",
    "def Print_matrix_normally (M):\n",
    "    for row in M:\n",
    "            print(row)\n",
    "    print('_'*40)\n",
    "        \n",
    "            \n",
    "\n",
    "#1\n",
    "A = [[24,67,81], [10,3,28], [63,55,17]]\n",
    "\n",
    "Print_matrix_normally(A)\n",
    "\n",
    "#2\n",
    "\n",
    "#Swapping 67 with 17\n",
    "c = A[0][1]\n",
    "A[0][1] = A[2][2]\n",
    "A[2][2] = c\n",
    "\n",
    "print(f\"67 swapped with 17:\")\n",
    "Print_matrix_normally(A)\n",
    "\n",
    "#Swapping 81 with 63\n",
    "\n",
    "c = A[0][2]\n",
    "A[0][2] = A[2][0]\n",
    "A[2][0] = c\n",
    "\n",
    "print(f\"81 swapped with 63:\")\n",
    "Print_matrix_normally(A)\n",
    "\n",
    "# Summing 24 and 28 and replacing 3 with the result:\n",
    "\n",
    "c = 24 + 28\n",
    "A[1][1] = c\n",
    "\n",
    "print(f\"3 replaced with (24+28)\")\n",
    "Print_matrix_normally(A)\n",
    "\n",
    "#3\n",
    "\n",
    "B =[[3,5,7], [2,4,6]]\n",
    "Print_matrix_normally(B)\n",
    "\n",
    "\n",
    "# The Solution to the BB question:\n",
    "\n",
    "print(f\"A[2][2] is = {A[2][2]}\")"
   ]
  },
  {
   "cell_type": "code",
   "execution_count": 38,
   "metadata": {},
   "outputs": [
    {
     "name": "stdout",
     "output_type": "stream",
     "text": [
      "How big a flag you want?10\n",
      "[1, 0, 0, 0, 0, 0, 0, 0, 0, 1]\n",
      "[0, 1, 0, 0, 0, 0, 0, 0, 1, 0]\n",
      "[0, 0, 1, 0, 0, 0, 0, 1, 0, 0]\n",
      "[0, 0, 0, 1, 0, 0, 1, 0, 0, 0]\n",
      "[0, 0, 0, 0, 1, 1, 0, 0, 0, 0]\n",
      "[0, 0, 0, 0, 1, 1, 0, 0, 0, 0]\n",
      "[0, 0, 0, 1, 0, 0, 1, 0, 0, 0]\n",
      "[0, 0, 1, 0, 0, 0, 0, 1, 0, 0]\n",
      "[0, 1, 0, 0, 0, 0, 0, 0, 1, 0]\n",
      "[1, 0, 0, 0, 0, 0, 0, 0, 0, 1]\n",
      "________________________________________\n"
     ]
    }
   ],
   "source": [
    "#TASK C\n",
    "\n",
    "def ScottisFlagMatrix (N):\n",
    "    M = []\n",
    "    for row in range(0, N):\n",
    "        M_ = []\n",
    "        for collum in range(0, N):\n",
    "            if (row == collum or row == N-1-collum):\n",
    "                M_.append(1)\n",
    "            else:\n",
    "                M_.append(0)\n",
    "        M.append(M_)\n",
    "    return M\n",
    "\n",
    "N = int(input(\"How big a flag you want?\"))\n",
    "Print_matrix_normally(ScottisFlagMatrix(N))\n",
    "        "
   ]
  },
  {
   "cell_type": "code",
   "execution_count": 74,
   "metadata": {},
   "outputs": [
    {
     "name": "stdout",
     "output_type": "stream",
     "text": [
      "A[57][56] is = 84\n",
      "C[24][18] is = 118\n"
     ]
    }
   ],
   "source": [
    "#TASK D\n",
    "\n",
    "def ReadMatrix (FileName):\n",
    "    M_0 = []\n",
    "    M = []\n",
    "    f = open(FileName, 'r')\n",
    "    for line in f:\n",
    "        M_0.append(int(line)) \n",
    "    f.close()\n",
    "    for i in range(0,60):\n",
    "        M_1 = []\n",
    "        for j in range(0, 60):\n",
    "            M_1.append(M_0[i*60+j])\n",
    "        M.append(M_1)\n",
    "    return M\n",
    "\n",
    "def AddingMatricies (A, B):\n",
    "    C =[]\n",
    "    if (len(A) != len(B)):    #Not a full test\n",
    "        return print(\"These 2 cannot be added\")\n",
    "    NR = len(A) #Number of rows\n",
    "    NC = len(A[0]) #Number of collums\n",
    "    for i in range(0, NR):\n",
    "        C_ =[]\n",
    "        for j in range(0, NC):\n",
    "            C_.append(A[i][j]+B[i][j])\n",
    "        C.append(C_)\n",
    "    \n",
    "    return C\n",
    "    \n",
    "    \n",
    "\n",
    "A = ReadMatrix(\"Matrix_A.txt\")\n",
    "B = ReadMatrix(\"Matrix_B.txt\")\n",
    "\n",
    "\n",
    "C = AddingMatricies(A, B)\n",
    "\n",
    "\n",
    "    \n",
    "\n",
    "# The Solution to the BB question:\n",
    "\n",
    "print(f\"A[57][56] is = {A[57][56]}\")\n",
    "print(f\"C[24][18] is = {C[24][18]}\")\n",
    "\n",
    "\n",
    "\n",
    "\n"
   ]
  },
  {
   "cell_type": "code",
   "execution_count": null,
   "metadata": {},
   "outputs": [],
   "source": []
  }
 ],
 "metadata": {
  "kernelspec": {
   "display_name": "Python 3",
   "language": "python",
   "name": "python3"
  },
  "language_info": {
   "codemirror_mode": {
    "name": "ipython",
    "version": 3
   },
   "file_extension": ".py",
   "mimetype": "text/x-python",
   "name": "python",
   "nbconvert_exporter": "python",
   "pygments_lexer": "ipython3",
   "version": "3.7.6"
  }
 },
 "nbformat": 4,
 "nbformat_minor": 4
}
