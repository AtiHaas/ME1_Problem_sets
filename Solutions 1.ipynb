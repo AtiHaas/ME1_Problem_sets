{
 "cells": [
  {
   "cell_type": "code",
   "execution_count": 3,
   "metadata": {},
   "outputs": [
    {
     "name": "stdout",
     "output_type": "stream",
     "text": [
      "a = 2 , b = 4 , c = 6 \n",
      "a = 3 , b = 4 , c = 6 \n",
      "a = 3 , b = 3 , c = 6 \n",
      "a = 3 , b = 3 , c = 6 \n"
     ]
    }
   ],
   "source": [
    "a = 2\n",
    "b = 4\n",
    "c = a + b\n",
    "print(f\"a = {a} , b = {b} , c = {c} \")\n",
    "a = a + 1 \n",
    "print(f\"a = {a} , b = {b} , c = {c} \")\n",
    "b = a\n",
    "print(f\"a = {a} , b = {b} , c = {c} \")\n",
    "c = a + b\n",
    "print(f\"a = {a} , b = {b} , c = {c} \")\n"
   ]
  },
  {
   "cell_type": "code",
   "execution_count": 18,
   "metadata": {},
   "outputs": [
    {
     "name": "stdout",
     "output_type": "stream",
     "text": [
      "-24\n"
     ]
    }
   ],
   "source": [
    "x = -11\n",
    "y = -3\n",
    "z = 3*x + y**2\n",
    "print(z)"
   ]
  },
  {
   "cell_type": "code",
   "execution_count": 5,
   "metadata": {},
   "outputs": [
    {
     "name": "stdout",
     "output_type": "stream",
     "text": [
      "The original is = 6.28, and the copy is = 3.14\n"
     ]
    }
   ],
   "source": [
    "var = 3.14\n",
    "varcopy = var\n",
    "var *= 2\n",
    "print(f\"The original is = {var}, and the copy is = {varcopy}\")"
   ]
  },
  {
   "cell_type": "code",
   "execution_count": 6,
   "metadata": {},
   "outputs": [
    {
     "name": "stdout",
     "output_type": "stream",
     "text": [
      "5\n",
      "7\n"
     ]
    }
   ],
   "source": [
    "MyPints = 3\n",
    "drink2more = 2\n",
    "MyPints += drink2more\n",
    "print(MyPints)\n",
    "MyPints += drink2more\n",
    "print(MyPints)"
   ]
  },
  {
   "cell_type": "code",
   "execution_count": 9,
   "metadata": {},
   "outputs": [
    {
     "name": "stdout",
     "output_type": "stream",
     "text": [
      "The result is = 0.75\n"
     ]
    }
   ],
   "source": [
    "Num = 3\n",
    "Den = 4\n",
    "Res = Num / Den\n",
    "print(f\"The result is = {Res}\")"
   ]
  },
  {
   "cell_type": "code",
   "execution_count": 11,
   "metadata": {},
   "outputs": [
    {
     "name": "stdout",
     "output_type": "stream",
     "text": [
      "a is = 10 and b is = 5\n",
      "a is = 5 and b is = 10\n"
     ]
    }
   ],
   "source": [
    "a = 10\n",
    "b = 5\n",
    "print(f\"a is = {a} and b is = {b}\")\n",
    "#Swapping the two:\n",
    "c = a\n",
    "a = b\n",
    "b = c\n",
    "print(f\"a is = {a} and b is = {b}\")"
   ]
  },
  {
   "cell_type": "code",
   "execution_count": 12,
   "metadata": {},
   "outputs": [
    {
     "name": "stdout",
     "output_type": "stream",
     "text": [
      "a is = 10, b is = 5 and c is = 20\n",
      "a is = 20, b is = 5 and c is = 10\n",
      "a is = 20, b is = 10 and c is = 5\n"
     ]
    }
   ],
   "source": [
    "a = 10\n",
    "b = 5\n",
    "c = 20\n",
    "print(f\"a is = {a}, b is = {b} and c is = {c}\")\n",
    "d = c\n",
    "c = a\n",
    "a = d\n",
    "print(f\"a is = {a}, b is = {b} and c is = {c}\")\n",
    "e = c\n",
    "c = b\n",
    "b = e\n",
    "print(f\"a is = {a}, b is = {b} and c is = {c}\")\n"
   ]
  },
  {
   "cell_type": "code",
   "execution_count": 17,
   "metadata": {},
   "outputs": [
    {
     "name": "stdout",
     "output_type": "stream",
     "text": [
      "22\n",
      "23\n",
      "5\n",
      "5\n"
     ]
    }
   ],
   "source": [
    "a = \"2\"\n",
    "b = 2\n",
    "f = a + str(b)\n",
    "print(f)\n",
    "c = \"3\"\n",
    "d = 3\n",
    "g = a + c\n",
    "print(g)\n",
    "h = b + d\n",
    "print(h)\n",
    "a = int(a)\n",
    "c = int(c)\n",
    "m = a + c\n",
    "print(m)\n"
   ]
  },
  {
   "cell_type": "code",
   "execution_count": null,
   "metadata": {},
   "outputs": [],
   "source": [
    "\n"
   ]
  }
 ],
 "metadata": {
  "kernelspec": {
   "display_name": "Python 3",
   "language": "python",
   "name": "python3"
  },
  "language_info": {
   "codemirror_mode": {
    "name": "ipython",
    "version": 3
   },
   "file_extension": ".py",
   "mimetype": "text/x-python",
   "name": "python",
   "nbconvert_exporter": "python",
   "pygments_lexer": "ipython3",
   "version": "3.7.6"
  }
 },
 "nbformat": 4,
 "nbformat_minor": 4
}
