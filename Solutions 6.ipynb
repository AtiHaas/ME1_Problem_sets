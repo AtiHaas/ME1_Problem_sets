{
 "cells": [
  {
   "cell_type": "code",
   "execution_count": 51,
   "metadata": {},
   "outputs": [
    {
     "name": "stdout",
     "output_type": "stream",
     "text": [
      "3628800\n",
      "120\n"
     ]
    }
   ],
   "source": [
    "#TASK A\n",
    "\n",
    "def factorial (n):\n",
    "    if n == 0:\n",
    "        return 1\n",
    "    else:\n",
    "        return n*factorial(n-1)\n",
    "\n",
    "print(factorial(10))\n",
    "n = 5\n",
    "n = factorial(n)\n",
    "print(n)\n"
   ]
  },
  {
   "cell_type": "code",
   "execution_count": 1,
   "metadata": {},
   "outputs": [
    {
     "name": "stdout",
     "output_type": "stream",
     "text": [
      "How many terms?5\n",
      "Beginning of the range?0\n",
      "End of the range?5\n",
      "stepsize?0.1\n"
     ]
    },
    {
     "ename": "NameError",
     "evalue": "name 'factorial' is not defined",
     "output_type": "error",
     "traceback": [
      "\u001b[0;31m---------------------------------------------------------------------------\u001b[0m",
      "\u001b[0;31mNameError\u001b[0m                                 Traceback (most recent call last)",
      "\u001b[0;32m<ipython-input-1-38318727b02c>\u001b[0m in \u001b[0;36m<module>\u001b[0;34m\u001b[0m\n\u001b[1;32m     27\u001b[0m \u001b[0;34m\u001b[0m\u001b[0m\n\u001b[1;32m     28\u001b[0m \u001b[0;34m\u001b[0m\u001b[0m\n\u001b[0;32m---> 29\u001b[0;31m \u001b[0myValues\u001b[0m \u001b[0;34m=\u001b[0m \u001b[0mexpseries\u001b[0m\u001b[0;34m(\u001b[0m\u001b[0mN\u001b[0m\u001b[0;34m,\u001b[0m \u001b[0mRange\u001b[0m\u001b[0;34m)\u001b[0m\u001b[0;34m\u001b[0m\u001b[0;34m\u001b[0m\u001b[0m\n\u001b[0m\u001b[1;32m     30\u001b[0m \u001b[0mxValues\u001b[0m \u001b[0;34m=\u001b[0m \u001b[0mXexpseries\u001b[0m\u001b[0;34m(\u001b[0m\u001b[0mRange\u001b[0m\u001b[0;34m)\u001b[0m\u001b[0;34m\u001b[0m\u001b[0;34m\u001b[0m\u001b[0m\n\u001b[1;32m     31\u001b[0m \u001b[0mpl\u001b[0m\u001b[0;34m.\u001b[0m\u001b[0mplot\u001b[0m\u001b[0;34m(\u001b[0m\u001b[0mxValues\u001b[0m\u001b[0;34m,\u001b[0m \u001b[0myValues\u001b[0m\u001b[0;34m)\u001b[0m\u001b[0;34m\u001b[0m\u001b[0;34m\u001b[0m\u001b[0m\n",
      "\u001b[0;32m<ipython-input-1-38318727b02c>\u001b[0m in \u001b[0;36mexpseries\u001b[0;34m(N, Range)\u001b[0m\n\u001b[1;32m     17\u001b[0m         \u001b[0mSum\u001b[0m \u001b[0;34m=\u001b[0m \u001b[0;36m0\u001b[0m\u001b[0;34m\u001b[0m\u001b[0;34m\u001b[0m\u001b[0m\n\u001b[1;32m     18\u001b[0m         \u001b[0;32mfor\u001b[0m \u001b[0mi\u001b[0m \u001b[0;32min\u001b[0m \u001b[0mrange\u001b[0m\u001b[0;34m(\u001b[0m\u001b[0;36m0\u001b[0m\u001b[0;34m,\u001b[0m \u001b[0mN\u001b[0m\u001b[0;34m+\u001b[0m\u001b[0;36m1\u001b[0m\u001b[0;34m)\u001b[0m\u001b[0;34m:\u001b[0m\u001b[0;34m\u001b[0m\u001b[0;34m\u001b[0m\u001b[0m\n\u001b[0;32m---> 19\u001b[0;31m             \u001b[0mSum\u001b[0m \u001b[0;34m+=\u001b[0m \u001b[0mx\u001b[0m\u001b[0;34m**\u001b[0m\u001b[0mi\u001b[0m \u001b[0;34m/\u001b[0m \u001b[0mfactorial\u001b[0m\u001b[0;34m(\u001b[0m\u001b[0mi\u001b[0m\u001b[0;34m)\u001b[0m\u001b[0;34m\u001b[0m\u001b[0;34m\u001b[0m\u001b[0m\n\u001b[0m\u001b[1;32m     20\u001b[0m         \u001b[0myValues\u001b[0m\u001b[0;34m.\u001b[0m\u001b[0mappend\u001b[0m\u001b[0;34m(\u001b[0m\u001b[0mSum\u001b[0m\u001b[0;34m)\u001b[0m\u001b[0;34m\u001b[0m\u001b[0;34m\u001b[0m\u001b[0m\n\u001b[1;32m     21\u001b[0m     \u001b[0;32mreturn\u001b[0m \u001b[0myValues\u001b[0m\u001b[0;34m\u001b[0m\u001b[0;34m\u001b[0m\u001b[0m\n",
      "\u001b[0;31mNameError\u001b[0m: name 'factorial' is not defined"
     ]
    }
   ],
   "source": [
    "#TASK B\n",
    "import numpy as np\n",
    "import matplotlib.pyplot as pl\n",
    "\n",
    "N = int(input('How many terms?'))\n",
    "a = int(input('Beginning of the range?'))\n",
    "b = int(input('End of the range?'))\n",
    "dx = float(input('stepsize?'))\n",
    "Range = [a, dx, b]\n",
    "yValues = []\n",
    "xValues = []\n",
    "\n",
    "\n",
    "def expseries (N, Range):\n",
    "    yValues = []\n",
    "    for x in np.arange(Range[0], Range[2], Range[1]+Range[2]):\n",
    "        Sum = 0\n",
    "        for i in range(0, N+1):\n",
    "            Sum += x**i / factorial(i)\n",
    "        yValues.append(Sum)\n",
    "    return yValues\n",
    "\n",
    "def Xexpseries (Range):\n",
    "    for x in np.arange(Range[0], Range[2], Range[1]+Range[2]):\n",
    "            xValues.append(x)\n",
    "    return xValues\n",
    "\n",
    "\n",
    "yValues = expseries(N, Range) \n",
    "xValues = Xexpseries(Range)\n",
    "pl.plot(xValues, yValues)\n"
   ]
  },
  {
   "cell_type": "code",
   "execution_count": 62,
   "metadata": {},
   "outputs": [
    {
     "name": "stdout",
     "output_type": "stream",
     "text": [
      "[91, 88, 12, 94, 79, 58, 42, 92, 52, 22, 32, 83, 88, 70, 58, 73, 50, 45, 60, 8, 95, 61, 7, 7, 62, 62, 44, 5, 9, 10, 47, 94, 50, 66, 23, 62, 12, 32, 48, 44, 52, 75, 64, 64, 7, 34, 35, 12, 76, 25, 6, 78, 26, 23, 24, 3, 6, 54, 53, 2, 55, 5, 93, 36, 41, 18, 5, 33, 52, 7, 28, 71, 5, 31, 60, 73, 87, 8, 13, 15, 33, 48, 7, 42, 70, 99, 74, 12, 79, 70, 68, 62, 82, 40, 2, 100, 66, 38, 76, 59, 8, 56, 25, 28, 5, 93, 20, 14, 71, 7, 37, 29, 16, 24, 79, 27, 67, 89, 29, 31, 89, 17, 86, 71, 74, 27, 72, 75, 55, 23, 65, 69, 46, 76, 88, 96, 60, 33, 36, 29, 81, 85, 80, 98, 87, 22, 53, 96, 45, 25, 29, 60, 93, 92, 93, 72, 54, 82, 46, 10, 62, 72, 51, 34, 53, 98, 20, 35, 73, 40, 95, 62, 75, 92, 51, 92, 62, 33, 6, 68, 99, 14, 96, 57, 5, 96, 42, 6, 59, 62, 42, 100, 48, 60, 68, 15, 43, 69, 8, 23, 34, 37, 37, 68, 97, 41, 22, 62, 75, 74, 45, 69, 56, 78, 2, 25, 78, 47, 11, 63, 78, 53, 60, 45, 36, 65, 63, 65, 7, 42, 16, 12, 53, 87, 60, 22, 63, 75, 51, 73, 15, 1, 94, 5, 10, 36, 98, 93, 19, 61, 20, 74, 68, 81, 38, 46, 54, 45, 40, 92, 75, 32, 12, 22, 40, 83, 73, 48, 100, 54, 4, 28, 35, 34, 82, 39, 96, 46, 79, 4, 51, 23, 51, 81, 52, 4, 69, 70, 60, 91, 3, 79, 22, 39, 88, 34, 10, 56, 36, 5, 35, 61, 74, 92, 16, 26, 48, 19, 76, 10, 92, 90, 21, 10, 66, 12, 10, 20, 98, 56, 4, 18, 66, 30, 13, 36, 41, 71, 58, 10, 49, 74, 99, 58, 75, 58, 55, 34, 76, 74, 2, 79, 84, 35, 5, 97, 4, 41, 55, 22, 49, 30, 80, 29, 7, 37, 79, 55, 91, 83, 2, 53, 6, 46, 61, 61, 32, 58, 14, 94, 61, 51, 27, 84, 24, 65, 12, 71, 54, 11, 7, 43, 34, 83, 96, 63, 20, 21, 18, 94, 71, 74, 71, 83, 84, 30, 83, 76, 2, 47, 26, 56, 11, 30, 23, 70, 34, 9, 85, 84, 90, 23, 42, 67, 2, 44, 26, 52, 56, 19, 72, 88, 22, 28, 100, 67, 11, 56, 89, 69, 49, 67, 53, 62, 29, 2, 99, 40, 50, 52, 70, 48, 12, 36, 8, 16, 17, 65, 23, 99, 68, 60, 49, 32, 2, 81, 5, 21, 86, 89, 87, 50, 25, 91, 62, 3, 23, 16, 47, 20, 11, 19, 97, 16, 84, 60, 35, 20, 5, 74, 87, 76, 89, 59, 55, 27, 30, 58, 31, 72, 45, 76, 12, 95, 62, 64, 20, 59, 1, 96]\n",
      "[1, 1, 2, 2, 2, 2, 2, 2, 2, 2, 2, 3, 3, 3, 4, 4, 4, 4, 4, 5, 5, 5, 5, 5, 5, 5, 5, 5, 5, 5, 6, 6, 6, 6, 6, 7, 7, 7, 7, 7, 7, 7, 7, 7, 8, 8, 8, 8, 8, 9, 9, 10, 10, 10, 10, 10, 10, 10, 10, 11, 11, 11, 11, 11, 12, 12, 12, 12, 12, 12, 12, 12, 12, 12, 13, 13, 14, 14, 14, 15, 15, 15, 16, 16, 16, 16, 16, 16, 17, 17, 18, 18, 18, 19, 19, 19, 19, 20, 20, 20, 20, 20, 20, 20, 20, 21, 21, 21, 22, 22, 22, 22, 22, 22, 22, 22, 23, 23, 23, 23, 23, 23, 23, 23, 23, 24, 24, 24, 25, 25, 25, 25, 25, 26, 26, 26, 26, 27, 27, 27, 27, 28, 28, 28, 28, 29, 29, 29, 29, 29, 29, 30, 30, 30, 30, 30, 31, 31, 31, 32, 32, 32, 32, 32, 33, 33, 33, 33, 34, 34, 34, 34, 34, 34, 34, 34, 35, 35, 35, 35, 35, 35, 36, 36, 36, 36, 36, 36, 36, 37, 37, 37, 37, 38, 38, 39, 39, 40, 40, 40, 40, 40, 41, 41, 41, 41, 42, 42, 42, 42, 42, 42, 43, 43, 44, 44, 44, 45, 45, 45, 45, 45, 45, 46, 46, 46, 46, 46, 47, 47, 47, 47, 48, 48, 48, 48, 48, 48, 49, 49, 49, 49, 50, 50, 50, 50, 51, 51, 51, 51, 51, 51, 52, 52, 52, 52, 52, 52, 53, 53, 53, 53, 53, 53, 53, 54, 54, 54, 54, 54, 55, 55, 55, 55, 55, 55, 56, 56, 56, 56, 56, 56, 56, 57, 58, 58, 58, 58, 58, 58, 58, 59, 59, 59, 59, 60, 60, 60, 60, 60, 60, 60, 60, 60, 60, 61, 61, 61, 61, 61, 61, 62, 62, 62, 62, 62, 62, 62, 62, 62, 62, 62, 62, 63, 63, 63, 63, 64, 64, 64, 65, 65, 65, 65, 65, 66, 66, 66, 66, 67, 67, 67, 67, 68, 68, 68, 68, 68, 68, 69, 69, 69, 69, 69, 70, 70, 70, 70, 70, 70, 71, 71, 71, 71, 71, 71, 71, 72, 72, 72, 72, 72, 73, 73, 73, 73, 73, 74, 74, 74, 74, 74, 74, 74, 74, 74, 75, 75, 75, 75, 75, 75, 75, 76, 76, 76, 76, 76, 76, 76, 76, 78, 78, 78, 78, 79, 79, 79, 79, 79, 79, 79, 80, 80, 81, 81, 81, 81, 82, 82, 82, 83, 83, 83, 83, 83, 83, 84, 84, 84, 84, 84, 85, 85, 86, 86, 87, 87, 87, 87, 87, 88, 88, 88, 88, 88, 89, 89, 89, 89, 89, 90, 90, 91, 91, 91, 91, 92, 92, 92, 92, 92, 92, 92, 93, 93, 93, 93, 93, 94, 94, 94, 94, 94, 95, 95, 95, 96, 96, 96, 96, 96, 96, 96, 97, 97, 97, 98, 98, 98, 98, 99, 99, 99, 99, 99, 100, 100, 100, 100]\n",
      "The answer to the bb question is 5\n"
     ]
    }
   ],
   "source": [
    "# TASK C\n",
    "import random\n",
    "\n",
    "\n",
    "#GENERATING A RANDOM LIST \n",
    "def randomlist (l):\n",
    "    rlist = []\n",
    "    for i in range(0, l):\n",
    "        rlist.append(int(random.random()*100+1))\n",
    "    return rlist\n",
    "\n",
    "#SORTING THIS LIST\n",
    "def quicksort(arr):\n",
    "    if len(arr)<2:\n",
    "        return arr\n",
    "    else:\n",
    "        pivot= arr[-1]\n",
    "        smaller, equal, larger = [], [], []\n",
    "        for num in arr:\n",
    "            if num<pivot:\n",
    "                smaller.append(num)\n",
    "            elif num == pivot:\n",
    "                equal.append(num)\n",
    "            elif num>pivot:\n",
    "                larger.append(num)\n",
    "        return quicksort(smaller) + equal + quicksort(larger)\n",
    "\n",
    "    \n",
    "\n",
    "f = open('Set.txt', 'r')\n",
    "l2 =[]\n",
    "for number in f:\n",
    "    l2.append(int(number.rstrip()))\n",
    "\n",
    "f.close()\n",
    "print(l2)\n",
    "l3 = quicksort(l2)\n",
    "print(l3)\n",
    "print(f\"The answer to the bb question is {l3[24]}\")\n",
    "    \n",
    "    "
   ]
  },
  {
   "cell_type": "code",
   "execution_count": 66,
   "metadata": {},
   "outputs": [
    {
     "name": "stdout",
     "output_type": "stream",
     "text": [
      "What should the initial angle be?67\n",
      "What should the initial speed be?21\n",
      "Well done: target centered, enrol to the Army\n"
     ]
    },
    {
     "data": {
      "image/png": "[encoded data removed]",
      "text/plain": [
       "<Figure size 432x288 with 1 Axes>"
      ]
     },
     "metadata": {
      "needs_background": "light"
     },
     "output_type": "display_data"
    }
   ],
   "source": [
    "#TASK D \n",
    "import random\n",
    "import math\n",
    "import numpy as np\n",
    "import matplotlib.pyplot as pl\n",
    "\n",
    "#VARIABLES FOR THE POINT GIVEN:\n",
    "xp = 0.3\n",
    "yp = 0.7\n",
    "R = 0.01\n",
    "\n",
    "#VARIABLES FOR THE SHOT\n",
    "a_1 = float(input('What should the initial angle be?'))\n",
    "a_0 = a_1 * math.pi/180\n",
    "v_0 = float(input('What should the initial speed be?'))\n",
    "dx = 0.01\n",
    "\n",
    "def shot (a_0, v_0, xp, yp, R, dx):\n",
    "    #The shot\n",
    "    xValues = []\n",
    "    yValues = []\n",
    "    for i in np.arange(0,1, dx):\n",
    "        xValues.append(i)\n",
    "    for x in xValues:\n",
    "        yValues.append(x*math.tan(a_0)-((x**2*9.81)/(v_0**2*(math.cos(a_0))**2)))\n",
    "    pl.plot(xValues, yValues)\n",
    "    #The target\n",
    "    yTarget = []\n",
    "    xTarget = []\n",
    "    for i in np.arange(0,2*math.pi,dx):\n",
    "        yTarget.append(yp + R*math.sin(i))\n",
    "        xTarget.append(xp + R*math.cos(i))\n",
    "    pl.plot(xTarget, yTarget)\n",
    "    #Is the target hit?\n",
    "    isHit = False\n",
    "    for i in range(0, len(xValues)):\n",
    "        if ((xValues[i]-xp)**2+(yValues[i]-yp)**2) < R**2 :\n",
    "            isHit = True\n",
    "            break\n",
    "    if isHit:\n",
    "        print('Well done: target centered, enrol to the Army')\n",
    "    else:\n",
    "        print('You missed, try again')\n",
    "    \n",
    "        \n",
    "shot (a_0, v_0, xp, yp, R, dx)"
   ]
  },
  {
   "cell_type": "code",
   "execution_count": 56,
   "metadata": {},
   "outputs": [
    {
     "name": "stdout",
     "output_type": "stream",
     "text": [
      "12.182493960362006\n"
     ]
    }
   ],
   "source": [
    "#TASK B ALTERED FOR THE BB QUESTION\n",
    "import numpy as np\n",
    "import matplotlib.pyplot as pl\n",
    "\n",
    "N = 18\n",
    "x = 2.5\n",
    "yValues = []\n",
    "xValues = []\n",
    "\n",
    "\n",
    "Sum1 = 0\n",
    "for i in range(0, N+1):\n",
    "    Sum1 += x**i / factorial(i)\n",
    "y = Sum1\n",
    "print(y)\n",
    "\n"
   ]
  },
  {
   "cell_type": "code",
   "execution_count": null,
   "metadata": {},
   "outputs": [],
   "source": []
  }
 ],
 "metadata": {
  "kernelspec": {
   "display_name": "Python 3",
   "language": "python",
   "name": "python3"
  },
  "language_info": {
   "codemirror_mode": {
    "name": "ipython",
    "version": 3
   },
   "file_extension": ".py",
   "mimetype": "text/x-python",
   "name": "python",
   "nbconvert_exporter": "python",
   "pygments_lexer": "ipython3",
   "version": "3.7.6"
  }
 },
 "nbformat": 4,
 "nbformat_minor": 4
}
