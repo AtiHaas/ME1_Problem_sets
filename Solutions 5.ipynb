{
 "cells": [
  {
   "cell_type": "code",
   "execution_count": 25,
   "metadata": {},
   "outputs": [
    {
     "name": "stdout",
     "output_type": "stream",
     "text": [
      "[('Max Ronald', '10a', 73), ('Vinzenz', '10a', 26), ('Syed Ahmed Hussain', '10a', 69), ('Sulayman Zaki', '10a', 55), ('Thomas', '10b', 42), ('Umair', '10b', 66), ('Rohhil', '10b', 65), ('Eugene Yucheng', '10b', 26), ('Chuan Chieh', '10b', 51), ('Anwesha', '10c', 98), ('Kyubin', '10c', 79), ('Ahad', '10c', 38), ('Joong Hyuk', '10c', 74), ('Eden John', '10c', 37), ('Diyah Kamlesh', '10d', 70), ('Siyi', '10d', 9), ('Arnav', '10d', 40), ('Xiaoni', '10d', 11), ('Christos', '1a', 78), ('Joshua Hoi-Wing', '1a', 77), ('Georgy', '1a', 79), ('Erik', '1a', 87), ('Osaruoname Johannes', '1a', 61), ('Zhongtian', '1b', 39), ('Jack Edward', '1b', 42), ('Zirui', '1b', 94), ('Oliver', '1b', 33), ('Conor', '1c', 63), ('Theodore Jeremy', '1c', 62), ('Marie', '1c', 14), ('Louise', '1c', 40), ('Paul', '1d', 45), ('Natasha Vinay', '1d', 47), ('Matei-Cristian', '1d', 13), ('James Keen Hong', '1d', 8), ('Samuel', '1d', 61), ('Samuel', '2a', 13), ('Kulappu Arachchige Donna Brindhiini', '2a', 16), ('Kunal', '2a', 35), ('Carmen', '2a', 61), ('Justin Tse Liang', '2a', 67), ('Hei Yan Dorothy', '2b', 57), ('Yilong', '2b', 1), ('Alice', '2b', 28), ('Shihao', '2b', 32), ('Manith Lakvindu', '2c', 22), ('Ion-Eftychios', '2c', 53), ('Max Yiye', '2c', 43), ('Pallavi', '2c', 56), ('Syed Muhammad', '2d', 7), ('Izz Rasyad', '2d', 8), ('Peter William You-Chen', '2d', 7), ('Noriko', '3a', 38), ('Connell', '3a', 27), ('Yiyu', '3a', 53), ('Chongrui', '3a', 70), ('Theodore Matthew', '3b', 91), ('Dennis Enricko', '3b', 73), ('Mohamad Akmal Izzuddin Bin', '3b', 62), ('Thomas', '3b', 15), ('Vilmos', '3b', 10), ('Donghyeon', '3c', 92), ('Priyam Rakesh', '3c', 59), ('Kiran', '3c', 56), ('Abinay', '3c', 83), ('Victor', '3c', 30), ('Anne Castille', '3d', 84), ('Federico', '3d', 31), ('Calum Torin', '3d', 81), ('Gaurav Girish', '4a', 22), ('Frederik Cecil Herman', '4a', 92), ('Rohit Roshan', '4a', 84), ('Yee Tong', '4a', 39), ('Ben', '4a', 68), ('Oluwaseyi', '4b', 72), ('Albert', '4b', 44), ('Zoe Hoi Mei', '4b', 55), ('Dana', '4b', 37), ('Mohamed', '4c', 98), ('Ryan (Chun)', '4c', 26), ('Louis Emerson', '4c', 60), ('Pei', '4c', 62), ('Fan', '4c', 84), ('Tuan', '4d', 63), ('Maria Quirina', '4d', 98), ('Martin Jia Hao', '4d', 13), ('Luke Henry', '4d', 89), ('Junho', '5a', 98), ('Yixuan', '5a', 26), ('Hwei Linn', '5a', 53), ('Max', '5a', 41), ('Howard Jun Yen', '5a', 74), ('Dimitrios', '5b', 23), ('Michael Henry', '5b', 15), ('Rizwan Ahmad', '5b', 76), ('Pierre', '5b', 27), ('Zi jian', '5c', 59), ('Joseph Scott Murphy', '5c', 87), ('Siqin', '5c', 67), ('Xinwei Sophie', '5c', 54), ('Ee Ezekiel', '5c', 11), ('Kartik', '5d', 32), ('Areeb Nasim', '5d', 33), ('Aiman Sany Bin', '5d', 69), ('Max Sian Ling', '5d', 69), ('William', '6a', 87), ('Mark Charles', '6a', 89), ('Lavina Yanyeuk Patricia', '6a', 4), ('Anna Elinor', '6a', 64), ('Zhang Quan', '6b', 32), ('Chang Chuan', '6b', 90), ('Simon', '6b', 64), ('Inigo', '6b', 92), ('Giovanni Fabrizio', '6c', 51), ('Manmohan', '6c', 22), ('Leo', '6c', 26), ('Huw Silas Kenneth', '6c', 15), ('Dilan', '6d', 37), ('Konrad', '6d', 1), ('Khizar', '6d', 46), ('Haixuan', '6d', 93), ('Alexandra', '6d', 66), ('Uzair', '7a', 53), ('Peerawit', '7a', 98), ('Patapee', '7a', 67), ('Mokam Singh', '7a', 33), ('Charles', '7b', 24), ('Karim', '7b', 25), ('Justin Zheng Ying', '7b', 45), ('Grace', '7b', 73), ('Qi Hua', '7b', 17), ('Alexander Milford', '7c', 27), ('Beikang', '7c', 58), ('Maria Dolores', '7c', 63), ('Candela', '7c', 89), ('Chi Him', '7c', 19), ('Liam', '7d', 69), ('Anwar Ali', '7d', 91), ('Cezary', '7d', 47), ('Benjamin', '7d', 79), ('Nicolas Florian', '8a', 89), ('Zachary', '8a', 12), ('Jonas Emilio', '8a', 73), ('Paul-Anael', '8a', 6), ('Nour', '8a', 87), ('Daisy Maria', '8b', 67), ('Raphael Joseph', '8b', 1), ('Priya Kaur', '8b', 3), ('Bavaharsan', '8b', 37), ('Joseph Luis', '8b', 77), ('Daniel Rhys', '8c', 42), ('Catarina', '8c', 97), ('Cedric', '8c', 79), ('Wern Shynn', '8c', 4), ('Weeraddana', '8d', 53), ('Diederik Grant', '8d', 98), ('Po-Chun', '8d', 40), ('Harry Edward', '8d', 84), ('Hafiz Ghazali Bin', '9a', 85), ('Steffan Yik Chye', '9a', 42), ('Christos', '9a', 92), ('Sohaib', '9a', 39), ('Jonathan', '9b', 56), ('Constance Coline Catherine', '9b', 72), ('Lamees', '9b', 4), ('Nikhil', '9b', 6), ('Luis', '9b', 25), ('Khama', '9c', 8), ('Peter Duncan', '9c', 40), ('Edward', '9c', 37), ('Dharanee', '9c', 7), ('Ho Fung', '9c', 98), ('Akim Tatsuki', '9d', 93), ('Matteo Gabriel', '9d', 18), ('Pierre Van-Linh', '9d', 52), ('Thomas James Selby', '9d', 49)]\n",
      "The info stored in position [20][2] is: 79\n"
     ]
    }
   ],
   "source": [
    "#TASK A\n",
    "\n",
    "names = open('Names.txt', 'r')\n",
    "groups = open('Groups.txt', 'r')\n",
    "marks = open('Marks(2).txt', 'r')\n",
    "\n",
    "Names = []\n",
    "Groups = []\n",
    "Marks = []\n",
    "\n",
    "for name in names:\n",
    "    Names.append(name.rstrip())\n",
    "    \n",
    "for group in groups:\n",
    "    Groups.append(group.rstrip())\n",
    "\n",
    "for mark in marks:\n",
    "    Marks.append(int(mark.rstrip()))\n",
    "    \n",
    "big_table = []\n",
    "\n",
    "for i in range(0, len(Names)):\n",
    "    big_table.append((Names[i], Groups[i], Marks[i]))\n",
    "    \n",
    "print(big_table)\n",
    "print(f\"The info stored in position [20][2] is: {big_table[20][2]}\")\n",
    "\n",
    "names.close()\n",
    "groups.close()\n",
    "marks.close()\n"
   ]
  },
  {
   "cell_type": "code",
   "execution_count": 30,
   "metadata": {},
   "outputs": [
    {
     "name": "stdout",
     "output_type": "stream",
     "text": [
      "[('Yilong', '2b', 1), ('Konrad', '6d', 1), ('Raphael Joseph', '8b', 1), ('Priya Kaur', '8b', 3), ('Lavina Yanyeuk Patricia', '6a', 4), ('Wern Shynn', '8c', 4), ('Lamees', '9b', 4), ('Paul-Anael', '8a', 6), ('Nikhil', '9b', 6), ('Syed Muhammad', '2d', 7), ('Peter William You-Chen', '2d', 7), ('Dharanee', '9c', 7), ('James Keen Hong', '1d', 8), ('Khama', '9c', 8), ('Izz Rasyad', '2d', 8), ('Siyi', '10d', 9), ('Vilmos', '3b', 10), ('Xiaoni', '10d', 11), ('Ee Ezekiel', '5c', 11), ('Zachary', '8a', 12), ('Samuel', '2a', 13), ('Matei-Cristian', '1d', 13), ('Martin Jia Hao', '4d', 13), ('Marie', '1c', 14), ('Michael Henry', '5b', 15), ('Huw Silas Kenneth', '6c', 15), ('Thomas', '3b', 15), ('Kulappu Arachchige Donna Brindhiini', '2a', 16), ('Qi Hua', '7b', 17), ('Matteo Gabriel', '9d', 18), ('Chi Him', '7c', 19), ('Manmohan', '6c', 22), ('Manith Lakvindu', '2c', 22), ('Gaurav Girish', '4a', 22), ('Dimitrios', '5b', 23), ('Charles', '7b', 24), ('Luis', '9b', 25), ('Karim', '7b', 25), ('Yixuan', '5a', 26), ('Vinzenz', '10a', 26), ('Leo', '6c', 26), ('Ryan (Chun)', '4c', 26), ('Eugene Yucheng', '10b', 26), ('Pierre', '5b', 27), ('Connell', '3a', 27), ('Alexander Milford', '7c', 27), ('Alice', '2b', 28), ('Victor', '3c', 30), ('Federico', '3d', 31), ('Zhang Quan', '6b', 32), ('Kartik', '5d', 32), ('Shihao', '2b', 32), ('Areeb Nasim', '5d', 33), ('Mokam Singh', '7a', 33), ('Oliver', '1b', 33), ('Kunal', '2a', 35), ('Bavaharsan', '8b', 37), ('Dilan', '6d', 37), ('Edward', '9c', 37), ('Eden John', '10c', 37), ('Dana', '4b', 37), ('Ahad', '10c', 38), ('Noriko', '3a', 38), ('Zhongtian', '1b', 39), ('Sohaib', '9a', 39), ('Yee Tong', '4a', 39), ('Peter Duncan', '9c', 40), ('Po-Chun', '8d', 40), ('Louise', '1c', 40), ('Arnav', '10d', 40), ('Max', '5a', 41), ('Thomas', '10b', 42), ('Jack Edward', '1b', 42), ('Steffan Yik Chye', '9a', 42), ('Daniel Rhys', '8c', 42), ('Max Yiye', '2c', 43), ('Albert', '4b', 44), ('Justin Zheng Ying', '7b', 45), ('Paul', '1d', 45), ('Khizar', '6d', 46), ('Natasha Vinay', '1d', 47), ('Cezary', '7d', 47), ('Thomas James Selby', '9d', 49), ('Giovanni Fabrizio', '6c', 51), ('Chuan Chieh', '10b', 51), ('Pierre Van-Linh', '9d', 52), ('Yiyu', '3a', 53), ('Weeraddana', '8d', 53), ('Uzair', '7a', 53), ('Ion-Eftychios', '2c', 53), ('Hwei Linn', '5a', 53), ('Xinwei Sophie', '5c', 54), ('Sulayman Zaki', '10a', 55), ('Zoe Hoi Mei', '4b', 55), ('Kiran', '3c', 56), ('Jonathan', '9b', 56), ('Pallavi', '2c', 56), ('Hei Yan Dorothy', '2b', 57), ('Beikang', '7c', 58), ('Zi jian', '5c', 59), ('Priyam Rakesh', '3c', 59), ('Louis Emerson', '4c', 60), ('Carmen', '2a', 61), ('Samuel', '1d', 61), ('Osaruoname Johannes', '1a', 61), ('Pei', '4c', 62), ('Mohamad Akmal Izzuddin Bin', '3b', 62), ('Theodore Jeremy', '1c', 62), ('Tuan', '4d', 63), ('Conor', '1c', 63), ('Maria Dolores', '7c', 63), ('Anna Elinor', '6a', 64), ('Simon', '6b', 64), ('Rohhil', '10b', 65), ('Alexandra', '6d', 66), ('Umair', '10b', 66), ('Siqin', '5c', 67), ('Justin Tse Liang', '2a', 67), ('Patapee', '7a', 67), ('Daisy Maria', '8b', 67), ('Ben', '4a', 68), ('Max Sian Ling', '5d', 69), ('Syed Ahmed Hussain', '10a', 69), ('Aiman Sany Bin', '5d', 69), ('Liam', '7d', 69), ('Diyah Kamlesh', '10d', 70), ('Chongrui', '3a', 70), ('Oluwaseyi', '4b', 72), ('Constance Coline Catherine', '9b', 72), ('Jonas Emilio', '8a', 73), ('Grace', '7b', 73), ('Dennis Enricko', '3b', 73), ('Max Ronald', '10a', 73), ('Joong Hyuk', '10c', 74), ('Howard Jun Yen', '5a', 74), ('Rizwan Ahmad', '5b', 76), ('Joshua Hoi-Wing', '1a', 77), ('Joseph Luis', '8b', 77), ('Christos', '1a', 78), ('Kyubin', '10c', 79), ('Benjamin', '7d', 79), ('Cedric', '8c', 79), ('Georgy', '1a', 79), ('Calum Torin', '3d', 81), ('Abinay', '3c', 83), ('Rohit Roshan', '4a', 84), ('Harry Edward', '8d', 84), ('Anne Castille', '3d', 84), ('Fan', '4c', 84), ('Hafiz Ghazali Bin', '9a', 85), ('William', '6a', 87), ('Nour', '8a', 87), ('Joseph Scott Murphy', '5c', 87), ('Erik', '1a', 87), ('Mark Charles', '6a', 89), ('Nicolas Florian', '8a', 89), ('Luke Henry', '4d', 89), ('Candela', '7c', 89), ('Chang Chuan', '6b', 90), ('Anwar Ali', '7d', 91), ('Theodore Matthew', '3b', 91), ('Inigo', '6b', 92), ('Donghyeon', '3c', 92), ('Christos', '9a', 92), ('Frederik Cecil Herman', '4a', 92), ('Akim Tatsuki', '9d', 93), ('Haixuan', '6d', 93), ('Zirui', '1b', 94), ('Catarina', '8c', 97), ('Mohamed', '4c', 98), ('Anwesha', '10c', 98), ('Ho Fung', '9c', 98), ('Peerawit', '7a', 98), ('Junho', '5a', 98), ('Diederik Grant', '8d', 98), ('Maria Quirina', '4d', 98)]\n",
      "176\n",
      "Student at position 50 is Zhang Quan\n"
     ]
    }
   ],
   "source": [
    "#TASK B\n",
    "\n",
    "for i in range(0, len(big_table)):\n",
    "    for j in range(i, len(big_table)):\n",
    "        if(big_table[i][2] > big_table[j][2]):\n",
    "            (big_table[i], big_table[j]) = (big_table[j], big_table[i])\n",
    "            \n",
    "print(big_table)\n",
    "print(len(big_table))\n",
    "print(f'Student at position 50 is {big_table[49][0]}')\n"
   ]
  },
  {
   "cell_type": "code",
   "execution_count": 23,
   "metadata": {},
   "outputs": [
    {
     "name": "stdout",
     "output_type": "stream",
     "text": [
      "[(1, 3, ['Yilong', 'Konrad', 'Raphael Joseph']), (3, 1, ['Priya Kaur']), (4, 3, ['Lavina Yanyeuk Patricia', 'Wern Shynn', 'Lamees']), (6, 2, ['Paul-Anael', 'Nikhil']), (7, 3, ['Syed Muhammad', 'Peter William You-Chen', 'Dharanee']), (8, 3, ['James Keen Hong', 'Khama', 'Izz Rasyad']), (9, 1, ['Siyi']), (10, 1, ['Vilmos']), (11, 2, ['Xiaoni', 'Ee Ezekiel']), (12, 1, ['Zachary']), (13, 3, ['Samuel', 'Matei-Cristian', 'Martin Jia Hao']), (14, 1, ['Marie']), (15, 3, ['Michael Henry', 'Huw Silas Kenneth', 'Thomas']), (16, 1, ['Kulappu Arachchige Donna Brindhiini']), (17, 1, ['Qi Hua']), (18, 1, ['Matteo Gabriel']), (19, 1, ['Chi Him']), (22, 3, ['Manmohan', 'Manith Lakvindu', 'Gaurav Girish']), (23, 1, ['Dimitrios']), (24, 1, ['Charles']), (25, 2, ['Luis', 'Karim']), (26, 5, ['Yixuan', 'Vinzenz', 'Leo', 'Ryan (Chun)', 'Eugene Yucheng']), (27, 3, ['Pierre', 'Connell', 'Alexander Milford']), (28, 1, ['Alice']), (30, 1, ['Victor']), (31, 1, ['Federico']), (32, 3, ['Zhang Quan', 'Kartik', 'Shihao']), (33, 3, ['Areeb Nasim', 'Mokam Singh', 'Oliver']), (35, 1, ['Kunal']), (37, 5, ['Bavaharsan', 'Dilan', 'Edward', 'Eden John', 'Dana']), (38, 2, ['Ahad', 'Noriko']), (39, 3, ['Zhongtian', 'Sohaib', 'Yee Tong']), (40, 4, ['Peter Duncan', 'Po-Chun', 'Louise', 'Arnav']), (41, 1, ['Max']), (42, 4, ['Thomas', 'Jack Edward', 'Steffan Yik Chye', 'Daniel Rhys']), (43, 1, ['Max Yiye']), (44, 1, ['Albert']), (45, 2, ['Justin Zheng Ying', 'Paul']), (46, 1, ['Khizar']), (47, 2, ['Natasha Vinay', 'Cezary']), (49, 1, ['Thomas James Selby']), (51, 2, ['Giovanni Fabrizio', 'Chuan Chieh']), (52, 1, ['Pierre Van-Linh']), (53, 5, ['Yiyu', 'Weeraddana', 'Uzair', 'Ion-Eftychios', 'Hwei Linn']), (54, 1, ['Xinwei Sophie']), (55, 2, ['Sulayman Zaki', 'Zoe Hoi Mei']), (56, 3, ['Kiran', 'Jonathan', 'Pallavi']), (57, 1, ['Hei Yan Dorothy']), (58, 1, ['Beikang']), (59, 2, ['Zi jian', 'Priyam Rakesh']), (60, 1, ['Louis Emerson']), (61, 3, ['Carmen', 'Samuel', 'Osaruoname Johannes']), (62, 3, ['Pei', 'Mohamad Akmal Izzuddin Bin', 'Theodore Jeremy']), (63, 3, ['Tuan', 'Conor', 'Maria Dolores']), (64, 2, ['Anna Elinor', 'Simon']), (65, 1, ['Rohhil']), (66, 2, ['Alexandra', 'Umair']), (67, 4, ['Siqin', 'Justin Tse Liang', 'Patapee', 'Daisy Maria']), (68, 1, ['Ben']), (69, 4, ['Max Sian Ling', 'Syed Ahmed Hussain', 'Aiman Sany Bin', 'Liam']), (70, 2, ['Diyah Kamlesh', 'Chongrui']), (72, 2, ['Oluwaseyi', 'Constance Coline Catherine']), (73, 4, ['Jonas Emilio', 'Grace', 'Dennis Enricko', 'Max Ronald']), (74, 2, ['Joong Hyuk', 'Howard Jun Yen']), (76, 1, ['Rizwan Ahmad']), (77, 2, ['Joshua Hoi-Wing', 'Joseph Luis']), (78, 1, ['Christos']), (79, 4, ['Kyubin', 'Benjamin', 'Cedric', 'Georgy']), (81, 1, ['Calum Torin']), (83, 1, ['Abinay']), (84, 4, ['Rohit Roshan', 'Harry Edward', 'Anne Castille', 'Fan']), (85, 1, ['Hafiz Ghazali Bin']), (87, 4, ['William', 'Nour', 'Joseph Scott Murphy', 'Erik']), (89, 4, ['Mark Charles', 'Nicolas Florian', 'Luke Henry', 'Candela']), (90, 1, ['Chang Chuan']), (91, 2, ['Anwar Ali', 'Theodore Matthew']), (92, 4, ['Inigo', 'Donghyeon', 'Christos', 'Frederik Cecil Herman']), (93, 2, ['Akim Tatsuki', 'Haixuan']), (94, 1, ['Zirui']), (97, 1, ['Catarina']), (98, 7, ['Mohamed', 'Anwesha', 'Ho Fung', 'Peerawit', 'Junho', 'Diederik Grant', 'Maria Quirina'])]\n"
     ]
    }
   ],
   "source": [
    "# TASK C\n",
    "\n",
    "big_table2 =[]\n",
    "\n",
    "for i in range(1, 101):\n",
    "    counter = 0\n",
    "    for mark in Marks:\n",
    "        if(mark == i):\n",
    "            counter +=1\n",
    "    _names =[]\n",
    "    for k in range(0, len(big_table)):\n",
    "        if(i == big_table[k][2]):\n",
    "            _names.append(big_table[k][0])\n",
    "    if (counter > 0):\n",
    "        big_table2.append((i, counter, _names))\n",
    "\n",
    "print(big_table2)"
   ]
  },
  {
   "cell_type": "code",
   "execution_count": 28,
   "metadata": {},
   "outputs": [
    {
     "name": "stdout",
     "output_type": "stream",
     "text": [
      "[(2, 3, 4), ()]\n"
     ]
    }
   ],
   "source": [
    "a = [(2,3,4),()]\n",
    "print(a)"
   ]
  },
  {
   "cell_type": "code",
   "execution_count": null,
   "metadata": {},
   "outputs": [],
   "source": []
  }
 ],
 "metadata": {
  "kernelspec": {
   "display_name": "Python 3",
   "language": "python",
   "name": "python3"
  },
  "language_info": {
   "codemirror_mode": {
    "name": "ipython",
    "version": 3
   },
   "file_extension": ".py",
   "mimetype": "text/x-python",
   "name": "python",
   "nbconvert_exporter": "python",
   "pygments_lexer": "ipython3",
   "version": "3.7.6"
  }
 },
 "nbformat": 4,
 "nbformat_minor": 4
}
