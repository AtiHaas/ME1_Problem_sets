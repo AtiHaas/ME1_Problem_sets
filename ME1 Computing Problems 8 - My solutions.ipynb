{
 "cells": [
  {
   "cell_type": "code",
   "execution_count": 108,
   "metadata": {},
   "outputs": [
    {
     "name": "stdout",
     "output_type": "stream",
     "text": [
      "200\n",
      "300\n",
      "[400, 1, 23, -24, 43, -41, 38, 28, 15, -16, 47, -3, -48, -24, -35, 4, -13, 18, 10, -25, 44, -25, -5, -48, -6, -15, -15, 28, -25, 0, -3, 48, -27, 0, -25, 16, -24, -10, -6, 32, -37, -1, -19, 12, 32, -11, 47, 45, -12, -14, -42, -27, 23, 22, -20, 29, 4, 39, 0, -17, -27, -33, 47, 36, -13, -32, -1, -34, 14, -11, 6, 40, 1, -44, -46, -21, 22, -45, 28, 15, 16, 41, 22, 6, -49, 0, -5, 28, 29, -31, -42, 13, 29, 13, -46, 46, -34, -28, 40, 32, 13, 28, 18, 15, -7, -2, -2, 4, -32, -20, 13, -45, -31, 47, 18, 22, -45, 35, 32, 24, -38, 15, 5, 11, 32, -4, 34, 7, -11, -35, -32, -1, 24, -43, 29, -45, 4, -13, 0, -24, -38, -32, 43, -20, -40, -34, 0, -5, 17, 18, -34, 49, 37, 30, 11, 15, -46, 22, 4, 42, -12, -31, 11, 1, 33, 39, -11, -1, -34, 3, -22, 40, -33, 22, -47, 32, 40, 38, -8, 33, -49, 34, -17, -45, -28, -42, 40, -32, -27, -32, 48, 36, 34, 21, 20, 21, -1, 26, -22, 9, -42, -15, 28, 11, 30, 41, -35, -27, -26, 43, 40, 27, -2, 7, 46, -42, 9, 13, -38, 39, -44, -32, 17, 40, 38, 29, -28, -19, 43, -46, 3, 1, 4, -43, -28, -21, 38, 14, 36, 29, 21, -5, -43, -5, -40, -12, -14, -21, 12, -44, -5, -22, 36, 34, 34, 25, 37, 29, -42, -46, 25, -26, 0, 7, -22, 32, -7, 41, -12, 46, 16, -28, -22, 28, 19, 0, 47, 13, -39, 9, 23, 4, -34, -35, -4, 23, -3, -35, 0, -3, -4, 5, -19, -32, -34, -45, -40, 29, 10, 36, -37, -30, 47, 34, -27, 36, 13, 6, 48, 48, 46, -39, 22, -28, 14, -17, -47, 3, 7, -16, 42, -47, -30, 6, 24, 36, 38, -38, 32, -31, -10, 9, -26, 45, -16, -5, 2, -35, 19, -25, -41, 36, -46, -24, 18, 31, 44, -14, -17, -2, -17, -24, -43, 35, 7, 29, -3, -3, -8, 40, -7, 7, -5, -12, -3, -11, 21, 0, -37, -29, -6, 3, -29, 23, 49, -18, 8, 11, -19, -27, 24, 14, 17, 3, -42, 30, 23, 44, -24, -32, 23, 42, -37, -10, -42, 40, 6, -40, -47, 18]\n"
     ]
    }
   ],
   "source": [
    "#DATA PREPERATION\n",
    "\n",
    "#MATRIX A\n",
    "\n",
    "def ReadMatrixA (FileName):\n",
    "    A_0 = []\n",
    "    A_1 = []\n",
    "    A_3 = []\n",
    "    A = []\n",
    "    f = open(FileName, 'r')\n",
    "    for line in f:\n",
    "        A_0.append(line.rstrip())\n",
    "    f.close()\n",
    "    for i in range(0,200):\n",
    "        A_2 = []\n",
    "        for j in range(0, 400):\n",
    "            A_2.append(A_0[i*400+j])\n",
    "        A_1.append(A_2)\n",
    "    \n",
    "    for row in A_1:\n",
    "        for element in row:\n",
    "            A_3.append(int(element))\n",
    "    for i in range(0,200):\n",
    "        A_4 = []\n",
    "        for j in range(0, 400):\n",
    "            A_4.append(A_3[i*400+j])\n",
    "        A.append(A_4)\n",
    "    return A\n",
    "\n",
    "\n",
    "A = (ReadMatrixA(\"MatA(2).txt\"))\n",
    "print(len(A))\n",
    "\n",
    "#Matrix B\n",
    "\n",
    "def ReadMatrixB (FileName):\n",
    "    B_0 = []\n",
    "    B_1 = []\n",
    "    B_3 = []\n",
    "    B = []\n",
    "    f = open(FileName, 'r')\n",
    "    for line in f:\n",
    "        B_0.append(line.rstrip())\n",
    "    f.close()\n",
    "    for i in range(0,400):\n",
    "        B_2 = []\n",
    "        for j in range(0, 300):\n",
    "            B_2.append(B_0[i*300+j])\n",
    "        B_1.append(B_2)\n",
    "    for row in B_1:\n",
    "        for element in row:\n",
    "            B_3.append(int(element))\n",
    "    for i in range(0,400):\n",
    "        B_4 = []\n",
    "        for j in range(0, 300):\n",
    "            B_4.append(B_3[i*300+j])\n",
    "        B.append(B_4)\n",
    "    return B\n",
    "\n",
    "B = ReadMatrixB(\"MatB(2).txt\")\n",
    "print(len(B[150]))\n",
    "\n",
    "#Coumb matrix b\n",
    "\n",
    "f = open('Colb(1).txt','r')\n",
    "t = f.readlines()\n",
    "c = 0\n",
    "b = []\n",
    "for j in range(400):\n",
    "    b.append(int(t[j].rstrip()))\n",
    "    \n",
    "print(b)\n",
    "\n"
   ]
  },
  {
   "cell_type": "code",
   "execution_count": 110,
   "metadata": {},
   "outputs": [
    {
     "name": "stdout",
     "output_type": "stream",
     "text": [
      "0\n",
      "The answer to the BB question is 21654\n"
     ]
    }
   ],
   "source": [
    "#TASK A\n",
    "\n",
    "def MatrixMultiplication(A, B):\n",
    "    \n",
    "    #Checking if they are compatible:\n",
    "    if len(A[0]) != len(B):\n",
    "        return 0\n",
    "    \n",
    "    #Generating the right size null matrix\n",
    "    C = []\n",
    "    for i in range(len(A)):\n",
    "        C_0 = []\n",
    "        for j in range(len(B[0])):\n",
    "            C_0.append(0)\n",
    "        C.append(C_0)\n",
    "    #Adding the appropriate values\n",
    "    for i in range(len(A)):\n",
    "        for j in range(len(B[0])):\n",
    "            for k in range(len(B)):\n",
    "                C[i][j] += A[i][k] * B[k][j]\n",
    "    return C\n",
    "\n",
    "    \n",
    "        \n",
    "    \n",
    "    \n",
    "# Example for testing:\n",
    "# 3x3 matrix\n",
    "X = [[12,7,3],\n",
    "    [4 ,5,6],\n",
    "    [7 ,8,9]]\n",
    "# 3x4 matrix\n",
    "Y = [[5,8,1,2],\n",
    "    [6,7,3,0]]\n",
    "    \n",
    "\n",
    "Z = MatrixMultiplication(X, Y)\n",
    "print(Z)\n",
    "\n",
    "C = MatrixMultiplication(A,B)\n",
    "print(f\"The answer to the BB question is {C[1][4]}\")\n"
   ]
  },
  {
   "cell_type": "code",
   "execution_count": 111,
   "metadata": {},
   "outputs": [
    {
     "name": "stdout",
     "output_type": "stream",
     "text": [
      "[11, 26, 41]\n",
      "The answer to the BB question is -25039\n"
     ]
    }
   ],
   "source": [
    "#TASK B \n",
    "def MatrixCollumMultiplication(A, b):\n",
    "        \n",
    "    #Checking if they are compatible:\n",
    "    if len(A[0]) != len(b):\n",
    "        return 0\n",
    "    \n",
    "    #Creating the right sized null columm matrix\n",
    "    c = []\n",
    "    for i in range(len(A)):\n",
    "        c. append(0)\n",
    "    #Adding the appropriate values\n",
    "    for i in range(len(A)):\n",
    "        for j in range(len(b)):\n",
    "            c [i] += A[i][j] * b[j]\n",
    "    return c\n",
    "\n",
    "# Example for testing:\n",
    "# 3x3 matrix\n",
    "X = [[1,2,3],\n",
    "    [4 ,5,6],\n",
    "    [7 ,8,9]]\n",
    "#collumn\n",
    "y = [1,2,2]\n",
    "\n",
    "z = MatrixCollumMultiplication(X,y)\n",
    "\n",
    "c = MatrixCollumMultiplication(A,b)\n",
    "\n",
    "print(f\"The answer to the BB question is {c[44]}\")"
   ]
  },
  {
   "cell_type": "code",
   "execution_count": 121,
   "metadata": {},
   "outputs": [
    {
     "name": "stdout",
     "output_type": "stream",
     "text": [
      "[[1, 4], [2, 5], [3, 6]]\n",
      "The answer to the BB question is 42\n"
     ]
    }
   ],
   "source": [
    "#TASK C\n",
    "\n",
    "def Transpose(A):\n",
    "    #Creating the right size matrix\n",
    "    A_t = []\n",
    "    for i in range(len(A[0])):\n",
    "        A_t0 = []\n",
    "        for j in range(len(A)):\n",
    "            A_t0.append(0)\n",
    "        A_t.append(A_t0)\n",
    "        \n",
    "    #Adding the appropriate values\n",
    "    for i in range(len(A[0])):\n",
    "        for j in range(len(A)):\n",
    "            A_t[i][j] = A [j][i]\n",
    "    return A_t\n",
    "\n",
    "# Example for testing:\n",
    "# 3x3 matrix\n",
    "X = [[1,2,3],\n",
    "    [4 ,5,6]]\n",
    "    \n",
    "\n",
    "\n",
    "\n",
    "X_t = Transpose(X)\n",
    "print(X_t)\n",
    "\n",
    "B_t = Transpose(B)\n",
    "print(B_t)\n",
    "\n",
    "print(f\"The answer to the BB question is {B_t[28][45]}\")"
   ]
  },
  {
   "cell_type": "code",
   "execution_count": 102,
   "metadata": {},
   "outputs": [
    {
     "name": "stdout",
     "output_type": "stream",
     "text": [
      "15\n"
     ]
    }
   ],
   "source": [
    "# Task D\n",
    "\n",
    "def Trace(A):\n",
    "    if len(A) != len(A[0]):\n",
    "        return 0\n",
    "    T = 0\n",
    "    for i in range(len(A)):\n",
    "        for j in range(len(A[0])):\n",
    "            if j == i:\n",
    "                T += A[i][j]\n",
    "    return T\n",
    "\n",
    "# Example for testing:\n",
    "# 3x3 matrix\n",
    "X = [[1,2,3],\n",
    "    [4 ,5,6],\n",
    "    [7 ,8,9]]\n",
    "\n",
    "\n",
    "T = Trace(X)\n",
    "print(T)"
   ]
  },
  {
   "cell_type": "code",
   "execution_count": 106,
   "metadata": {},
   "outputs": [
    {
     "name": "stdout",
     "output_type": "stream",
     "text": [
      "How big a chess table you want?8\n",
      "[1, 0, 1, 0, 1, 0, 1, 0]\n",
      "[0, 1, 0, 1, 0, 1, 0, 1]\n",
      "[1, 0, 1, 0, 1, 0, 1, 0]\n",
      "[0, 1, 0, 1, 0, 1, 0, 1]\n",
      "[1, 0, 1, 0, 1, 0, 1, 0]\n",
      "[0, 1, 0, 1, 0, 1, 0, 1]\n",
      "[1, 0, 1, 0, 1, 0, 1, 0]\n",
      "[0, 1, 0, 1, 0, 1, 0, 1]\n",
      "None\n"
     ]
    }
   ],
   "source": [
    "#TASK E\n",
    "\n",
    "def Chess(N):\n",
    "    for i in range(N):\n",
    "        A_ = []\n",
    "        for j in range(N):\n",
    "            if (i+j) % 2 == 0:\n",
    "                A_.append(1)\n",
    "            else:\n",
    "                A_.append(0)\n",
    "        print(A_)\n",
    "\n",
    "N = int(input(\"How big a chess table you want?\"))\n",
    "print(Chess(N))"
   ]
  },
  {
   "cell_type": "code",
   "execution_count": null,
   "metadata": {},
   "outputs": [],
   "source": []
  }
 ],
 "metadata": {
  "kernelspec": {
   "display_name": "Python 3",
   "language": "python",
   "name": "python3"
  },
  "language_info": {
   "codemirror_mode": {
    "name": "ipython",
    "version": 3
   },
   "file_extension": ".py",
   "mimetype": "text/x-python",
   "name": "python",
   "nbconvert_exporter": "python",
   "pygments_lexer": "ipython3",
   "version": "3.7.6"
  }
 },
 "nbformat": 4,
 "nbformat_minor": 4
}
