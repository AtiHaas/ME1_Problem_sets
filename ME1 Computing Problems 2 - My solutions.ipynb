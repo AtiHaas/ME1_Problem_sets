{
 "cells": [
  {
   "cell_type": "code",
   "execution_count": 31,
   "metadata": {},
   "outputs": [
    {
     "name": "stdout",
     "output_type": "stream",
     "text": [
      "The List A = \n",
      "[20, 11, 12, 13, 14, 23, 16, 17, 28, 19, 10]\n",
      "The List B = \n",
      "[20, 21, 22, 15, 25, 25, 52, 27, 28, 29, 30]\n",
      "Answer to the bb question:\n",
      "20\n"
     ]
    }
   ],
   "source": [
    "#TASK A\n",
    "\n",
    "#1\n",
    "A = [10,11,12,13,14,15,16,17,28,19,20]\n",
    "B = [20,21,22,23,24,25,26,27,28,29,30]\n",
    "\n",
    "#2\n",
    "B[4] = A[2]+ A[3]\n",
    "B[6] = 2*B[6]\n",
    "\n",
    "#3\n",
    "c = A[0]\n",
    "A[0] = A[-1]\n",
    "A[-1] = c\n",
    "\n",
    "#4\n",
    "i = 3\n",
    "j= 5\n",
    "d = B[i]\n",
    "B[i] = A[j]\n",
    "A[j] = d\n",
    "\n",
    "#Printing\n",
    "print(\"The List A = \")\n",
    "print(A)\n",
    "print(\"The List B = \")\n",
    "print(B)\n",
    "\n",
    "print(\"Answer to the bb question:\")\n",
    "print(A[0])\n"
   ]
  },
  {
   "cell_type": "code",
   "execution_count": 34,
   "metadata": {},
   "outputs": [
    {
     "name": "stdout",
     "output_type": "stream",
     "text": [
      "The List A = \n",
      "[1, 2, 3, 4, 5, 6, 7, 8, 9, 10, 11, 12, 13, 14, 15, 16, 17, 18, 19, 20, 21, 22, 23, 24, 25, 26, 27, 28, 29, 30, 31, 32, 33, 34, 35, 36, 37, 38, 39, 40, 41, 42, 43, 44, 45, 46, 47, 48, 49, 50, 51, 52, 53, 54, 55, 56, 57, 58, 59, 60, 61, 62, 63, 64, 65, 66, 67, 68, 69, 70, 71, 72, 73, 74, 75, 76, 77, 78, 79, 80, 81, 82, 83, 84, 85, 86, 87, 88, 89, 90, 91, 92, 93, 94, 95, 96, 97, 98, 99, 100]\n",
      "The List B = \n",
      "[1, 4, 9, 16, 25, 36, 49, 64, 81, 100, 121, 144, 169, 196, 225, 256, 289, 324, 361, 400, 441, 484, 529, 576, 625, 676, 729, 784, 841, 900, 961, 1024, 1089, 1156, 1225, 1296, 1369, 1444, 1521, 1600, 1681, 1764, 1849, 1936, 2025, 2116, 2209, 2304, 2401, 2500, 2601, 2704, 2809, 2916, 3025, 3136, 3249, 3364, 3481, 3600, 3721, 3844, 3969, 4096, 4225, 4356, 4489, 4624, 4761, 4900, 5041, 5184, 5329, 5476, 5625, 5776, 5929, 6084, 6241, 6400, 6561, 6724, 6889, 7056, 7225, 7396, 7569, 7744, 7921, 8100, 8281, 8464, 8649, 8836, 9025, 9216, 9409, 9604, 9801, 10000]\n",
      "The List C = \n",
      "[2, 6, 12, 20, 30, 42, 56, 72, 90, 110, 132, 156, 182, 210, 240, 272, 306, 342, 380, 420, 462, 506, 552, 600, 650, 702, 756, 812, 870, 930, 992, 1056, 1122, 1190, 1260, 1332, 1406, 1482, 1560, 1640, 1722, 1806, 1892, 1980, 2070, 2162, 2256, 2352, 2450, 2550, 2652, 2756, 2862, 2970, 3080, 3192, 3306, 3422, 3540, 3660, 3782, 3906, 4032, 4160, 4290, 4422, 4556, 4692, 4830, 4970, 5112, 5256, 5402, 5550, 5700, 5852, 6006, 6162, 6320, 6480, 6642, 6806, 6972, 7140, 7310, 7482, 7656, 7832, 8010, 8190, 8372, 8556, 8742, 8930, 9120, 9312, 9506, 9702, 9900, 10100]\n",
      "Answer to the bb question:\n",
      "110\n"
     ]
    }
   ],
   "source": [
    "#TASK B\n",
    "\n",
    "#1\n",
    "A = []\n",
    "for i in range(0,100):\n",
    "    A.append(i+1)\n",
    "print(\"The List A = \")\n",
    "print(A)\n",
    "    \n",
    "#2\n",
    "B = []\n",
    "for i in A:\n",
    "    B.append(i**2) \n",
    "print(\"The List B = \")\n",
    "print(B)\n",
    "\n",
    "\n",
    "#3\n",
    "C = []\n",
    "for i in range(len(B)):\n",
    "    C.append(A[i] + B[i])\n",
    "print(\"The List C = \")\n",
    "print(C)\n",
    "\n",
    "print(\"Answer to the bb question:\")\n",
    "print(C[9])\n",
    "\n",
    "    "
   ]
  },
  {
   "cell_type": "code",
   "execution_count": 33,
   "metadata": {},
   "outputs": [
    {
     "name": "stdout",
     "output_type": "stream",
     "text": [
      "The List A = \n",
      "[0, 2, 3, 0, 5, 6, 0, 8, 9, 0, 11, 12, 0, 14, 15, 0, 17, 18, 0, 20, 21, 0, 23, 24, 0, 26, 27, 0, 29, 30, 0, 32, 33, 0, 35, 36, 0, 38, 39, 0, 41, 42, 0, 44, 45, 0, 47, 48, 0, 50, 51, 0, 53, 54, 0, 56, 57, 0, 59, 60, 0, 62, 63, 0, 65, 66, 0, 68, 69, 0, 71, 72, 0, 74, 75, 0, 77, 78, 0, 80, 81, 0, 83, 84, 0, 86, 87, 0, 89, 90, 0, 92, 93, 0, 95, 96, 0, 98, 99, 0]\n",
      "The List D = \n",
      "[0, 99, 98, 0, 96, 95, 0, 93, 92, 0, 90, 89, 0, 87, 86, 0, 84, 83, 0, 81, 80, 0, 78, 77, 0, 75, 74, 0, 72, 71, 0, 69, 68, 0, 66, 65, 0, 63, 62, 0, 60, 59, 0, 57, 56, 0, 54, 53, 0, 51, 50, 0, 48, 47, 0, 45, 44, 0, 42, 41, 0, 39, 38, 0, 36, 35, 0, 33, 32, 0, 30, 29, 0, 27, 26, 0, 24, 23, 0, 21, 20, 0, 18, 17, 0, 15, 14, 0, 12, 11, 0, 9, 8, 0, 6, 5, 0, 3, 2, 0]\n",
      "Answer to the bb question:\n",
      "0\n"
     ]
    }
   ],
   "source": [
    "#TASK C\n",
    "\n",
    "#1\n",
    "for i in range(0,len(A), 3):\n",
    "    A[i] = 0\n",
    "    \n",
    "print(\"The List A = \")\n",
    "print(A)\n",
    "\n",
    "#2\n",
    "D = []\n",
    "for i in range(1, len(A)+1):\n",
    "    D.append(A[-i])\n",
    "print(\"The List D = \")\n",
    "print(D)\n",
    "\n",
    "print(\"Answer to the bb question:\")\n",
    "print(D[69])"
   ]
  },
  {
   "cell_type": "code",
   "execution_count": 30,
   "metadata": {},
   "outputs": [
    {
     "name": "stdout",
     "output_type": "stream",
     "text": [
      "The List x = \n",
      "[1, 6, 11, 16, 21, 26, 31, 36, 41, 46, 51, 56, 61, 66, 71, 76, 81, 86, 91, 96]\n",
      "The List y = \n",
      "[0.0, 0.7781512503836436, 1.0413926851582251, 1.2041199826559248, 1.3222192947339193, 1.414973347970818, 1.4913616938342726, 1.5563025007672873, 1.6127838567197355, 1.662757831681574, 1.7075701760979363, 1.7481880270062005, 1.7853298350107671, 1.8195439355418688, 1.8512583487190752, 1.8808135922807914, 1.9084850188786497, 1.9344984512435677, 1.9590413923210936, 1.9822712330395684]\n"
     ]
    },
    {
     "data": {
      "text/plain": [
       "<matplotlib.collections.PathCollection at 0x7fe9e280f150>"
      ]
     },
     "execution_count": 30,
     "metadata": {},
     "output_type": "execute_result"
    },
    {
     "data": {
      "image/png": "[encoded data removed]",
      "text/plain": [
       "<Figure size 432x288 with 1 Axes>"
      ]
     },
     "metadata": {
      "needs_background": "light"
     },
     "output_type": "display_data"
    }
   ],
   "source": [
    "#TASK D\n",
    "import math\n",
    "import matplotlib.pyplot as plt\n",
    "\n",
    "#1\n",
    "x = []\n",
    "for i in range(1, 100, 5):\n",
    "    x.append(i)\n",
    "print(\"The List x = \")\n",
    "print(x)\n",
    "\n",
    "#2\n",
    "y =[]\n",
    "for i in x:\n",
    "    y.append(math.log10(i))\n",
    "print(\"The List y = \")\n",
    "print(y)\n",
    "\n",
    "#3\n",
    "plt.scatter(x,y)\n",
    "\n",
    "print(\"Answer to the bb question:\")\n",
    "\n",
    "while x[i] =! 51\n",
    "\n"
   ]
  },
  {
   "cell_type": "code",
   "execution_count": null,
   "metadata": {},
   "outputs": [],
   "source": []
  }
 ],
 "metadata": {
  "kernelspec": {
   "display_name": "Python 3",
   "language": "python",
   "name": "python3"
  },
  "language_info": {
   "codemirror_mode": {
    "name": "ipython",
    "version": 3
   },
   "file_extension": ".py",
   "mimetype": "text/x-python",
   "name": "python",
   "nbconvert_exporter": "python",
   "pygments_lexer": "ipython3",
   "version": "3.7.6"
  }
 },
 "nbformat": 4,
 "nbformat_minor": 4
}
